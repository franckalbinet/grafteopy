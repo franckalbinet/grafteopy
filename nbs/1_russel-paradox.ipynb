{
 "cells": [
  {
   "cell_type": "markdown",
   "id": "2525c440",
   "metadata": {},
   "source": [
    "# 1.7 Russel's paradox in Python"
   ]
  },
  {
   "cell_type": "markdown",
   "id": "de2a302c",
   "metadata": {},
   "source": [
    "> The barber is the \"one who shaves all those, and those only, who do not shave themselves\". The question is, does the barber shave himself?"
   ]
  },
  {
   "cell_type": "code",
   "execution_count": null,
   "id": "ed6a49bd",
   "metadata": {},
   "outputs": [
    {
     "data": {
      "text/plain": [
       "[1, 2, 3]"
      ]
     },
     "execution_count": null,
     "metadata": {},
     "output_type": "execute_result"
    }
   ],
   "source": [
    "L = [1, 2, 3]; L"
   ]
  },
  {
   "cell_type": "code",
   "execution_count": null,
   "id": "908f9cff",
   "metadata": {},
   "outputs": [
    {
     "data": {
      "text/plain": [
       "[1, 2, 3, [...]]"
      ]
     },
     "execution_count": null,
     "metadata": {},
     "output_type": "execute_result"
    }
   ],
   "source": [
    "L.append(L); L"
   ]
  },
  {
   "cell_type": "code",
   "execution_count": null,
   "id": "51afa69a",
   "metadata": {},
   "outputs": [],
   "source": [
    "class MySet:\n",
    "    def __init__(self, membertest):\n",
    "        self.membertest = membertest\n",
    "\n",
    "    def __contains__(self, n):\n",
    "        return self.membertest(n)\n",
    "    \n",
    "    def __and__(self, other):\n",
    "        return MySet(lambda n: n in self) and MySet(lambda n: n in other)"
   ]
  },
  {
   "cell_type": "code",
   "execution_count": null,
   "id": "20f98de3",
   "metadata": {},
   "outputs": [],
   "source": [
    "multipleofthree = lambda n: n % 3 == 0"
   ]
  },
  {
   "cell_type": "code",
   "execution_count": null,
   "id": "faf0baa1",
   "metadata": {},
   "outputs": [],
   "source": [
    "Fizz = MySet(multipleofthree)"
   ]
  },
  {
   "cell_type": "code",
   "execution_count": null,
   "id": "883d86d0",
   "metadata": {},
   "outputs": [],
   "source": [
    "# Tests\n",
    "assert((3 in Fizz))\n",
    "assert((30 in Fizz))\n",
    "assert(not (50 in Fizz))"
   ]
  },
  {
   "cell_type": "code",
   "execution_count": null,
   "id": "1d7da0b6",
   "metadata": {},
   "outputs": [],
   "source": [
    "Buzz = MySet(lambda n: n % 5 == 0)"
   ]
  },
  {
   "cell_type": "code",
   "execution_count": null,
   "id": "e289e9c2",
   "metadata": {},
   "outputs": [],
   "source": [
    "assert(5 in Buzz)\n",
    "assert(1287645 in Buzz)\n",
    "assert(3 not in Buzz)"
   ]
  },
  {
   "cell_type": "code",
   "execution_count": null,
   "id": "0f9137d0",
   "metadata": {},
   "outputs": [],
   "source": [
    "FizzBuzz = Fizz and Buzz"
   ]
  },
  {
   "cell_type": "code",
   "execution_count": null,
   "id": "1f950a52",
   "metadata": {},
   "outputs": [],
   "source": [
    "assert(15 in FizzBuzz)\n",
    "assert(90015 in FizzBuzz)\n",
    "assert(6 not in FizzBuzz)"
   ]
  },
  {
   "cell_type": "markdown",
   "id": "16e864ad",
   "metadata": {},
   "source": [
    "We want to create a test that doesn't contain itself. For that, we need a membership test."
   ]
  },
  {
   "cell_type": "code",
   "execution_count": null,
   "id": "37cce368",
   "metadata": {},
   "outputs": [],
   "source": [
    "def doesntcontainself(X):\n",
    "    try:\n",
    "        return X not in X\n",
    "    except TypeError:\n",
    "        return True"
   ]
  },
  {
   "cell_type": "code",
   "execution_count": null,
   "id": "026529ad",
   "metadata": {},
   "outputs": [],
   "source": [
    "Barber = MySet(doesntcontainself)"
   ]
  },
  {
   "cell_type": "code",
   "execution_count": null,
   "id": "6efcfc0d",
   "metadata": {},
   "outputs": [
    {
     "data": {
      "text/plain": [
       "True"
      ]
     },
     "execution_count": null,
     "metadata": {},
     "output_type": "execute_result"
    }
   ],
   "source": [
    "Fizz in Barber"
   ]
  },
  {
   "cell_type": "code",
   "execution_count": null,
   "id": "7f2a400b",
   "metadata": {},
   "outputs": [],
   "source": [
    "W = MySet(None)\n",
    "W.membertest = lambda x: x is W"
   ]
  },
  {
   "cell_type": "code",
   "execution_count": null,
   "id": "ef924ebe",
   "metadata": {},
   "outputs": [],
   "source": [
    "assert(W in W)"
   ]
  },
  {
   "cell_type": "code",
   "execution_count": null,
   "id": "af39a6e9",
   "metadata": {},
   "outputs": [],
   "source": [
    "assert(W not in Barber)"
   ]
  },
  {
   "cell_type": "code",
   "execution_count": null,
   "id": "b0c613c5",
   "metadata": {},
   "outputs": [],
   "source": [
    "# Here is the paradox showed here as recursion error\n",
    "# Barber in Barber"
   ]
  },
  {
   "cell_type": "markdown",
   "id": "4727f580",
   "metadata": {},
   "source": [
    "## Annex: My initial attemps on FizzBuzz\n",
    "This test has been mentioned in the video. Quick implementation."
   ]
  },
  {
   "cell_type": "markdown",
   "id": "dcdb72f1",
   "metadata": {},
   "source": [
    "Description:\n",
    "- si le nombre est divisible par 3 : on écrit Fizz\n",
    "- si le nombre est divisible par 5 : on écrit Buzz\n",
    "- si le nombre est divisible par 3 et par 5 : on écrit Fizzbuzz\n",
    "- sinon : on écrit le nombre"
   ]
  },
  {
   "cell_type": "code",
   "execution_count": null,
   "id": "8aba221d",
   "metadata": {},
   "outputs": [],
   "source": [
    "def multipleOf(n): return lambda m: m % n == 0"
   ]
  },
  {
   "cell_type": "code",
   "execution_count": null,
   "id": "52dcc9fe",
   "metadata": {},
   "outputs": [],
   "source": [
    "multipleOf3 = multipleOf(3)\n",
    "multipleOf5 = multipleOf(5)"
   ]
  },
  {
   "cell_type": "code",
   "execution_count": null,
   "id": "11a3ed12",
   "metadata": {},
   "outputs": [],
   "source": [
    "# v1\n",
    "def fizzBuzz(n):\n",
    "    if multipleOf3(n):\n",
    "        if multipleOf5(n):\n",
    "            return 'FizzBuzz'\n",
    "        else:\n",
    "            return 'Fizz'\n",
    "    else:\n",
    "        if multipleOf5(n):\n",
    "            return 'Buzz'\n",
    "        else:\n",
    "            return n"
   ]
  },
  {
   "cell_type": "code",
   "execution_count": null,
   "id": "4e74e973",
   "metadata": {},
   "outputs": [],
   "source": [
    "# v2\n",
    "def fizzBuzz(n):\n",
    "    if not (multipleOf3(n) or multipleOf5(n)): return n\n",
    "    fizz = 'Fizz' if multipleOf3(n) else ''\n",
    "    buzz = 'Buzz' if multipleOf5(n) else ''\n",
    "    return fizz + buzz"
   ]
  },
  {
   "cell_type": "code",
   "execution_count": null,
   "id": "d36dd45e",
   "metadata": {},
   "outputs": [
    {
     "name": "stdout",
     "output_type": "stream",
     "text": [
      "1 -> 1\n",
      "2 -> 2\n",
      "3 -> Fizz\n",
      "4 -> 4\n",
      "5 -> Buzz\n",
      "6 -> Fizz\n",
      "7 -> 7\n",
      "8 -> 8\n",
      "9 -> Fizz\n",
      "10 -> Buzz\n",
      "11 -> 11\n",
      "12 -> Fizz\n",
      "13 -> 13\n",
      "14 -> 14\n",
      "15 -> FizzBuzz\n",
      "16 -> 16\n",
      "17 -> 17\n",
      "18 -> Fizz\n",
      "19 -> 19\n",
      "20 -> Buzz\n",
      "21 -> Fizz\n",
      "22 -> 22\n",
      "23 -> 23\n",
      "24 -> Fizz\n",
      "25 -> Buzz\n",
      "26 -> 26\n",
      "27 -> Fizz\n",
      "28 -> 28\n",
      "29 -> 29\n",
      "30 -> FizzBuzz\n",
      "31 -> 31\n",
      "32 -> 32\n",
      "33 -> Fizz\n",
      "34 -> 34\n",
      "35 -> Buzz\n",
      "36 -> Fizz\n",
      "37 -> 37\n",
      "38 -> 38\n",
      "39 -> Fizz\n",
      "40 -> Buzz\n",
      "41 -> 41\n",
      "42 -> Fizz\n",
      "43 -> 43\n",
      "44 -> 44\n",
      "45 -> FizzBuzz\n",
      "46 -> 46\n",
      "47 -> 47\n",
      "48 -> Fizz\n",
      "49 -> 49\n",
      "50 -> Buzz\n",
      "51 -> Fizz\n",
      "52 -> 52\n",
      "53 -> 53\n",
      "54 -> Fizz\n",
      "55 -> Buzz\n",
      "56 -> 56\n",
      "57 -> Fizz\n",
      "58 -> 58\n",
      "59 -> 59\n",
      "60 -> FizzBuzz\n",
      "61 -> 61\n",
      "62 -> 62\n",
      "63 -> Fizz\n",
      "64 -> 64\n",
      "65 -> Buzz\n",
      "66 -> Fizz\n",
      "67 -> 67\n",
      "68 -> 68\n",
      "69 -> Fizz\n",
      "70 -> Buzz\n",
      "71 -> 71\n",
      "72 -> Fizz\n",
      "73 -> 73\n",
      "74 -> 74\n",
      "75 -> FizzBuzz\n",
      "76 -> 76\n",
      "77 -> 77\n",
      "78 -> Fizz\n",
      "79 -> 79\n",
      "80 -> Buzz\n",
      "81 -> Fizz\n",
      "82 -> 82\n",
      "83 -> 83\n",
      "84 -> Fizz\n",
      "85 -> Buzz\n",
      "86 -> 86\n",
      "87 -> Fizz\n",
      "88 -> 88\n",
      "89 -> 89\n",
      "90 -> FizzBuzz\n",
      "91 -> 91\n",
      "92 -> 92\n",
      "93 -> Fizz\n",
      "94 -> 94\n",
      "95 -> Buzz\n",
      "96 -> Fizz\n",
      "97 -> 97\n",
      "98 -> 98\n",
      "99 -> Fizz\n",
      "100 -> Buzz\n"
     ]
    }
   ],
   "source": [
    "for i in range(1, 101):\n",
    "    print(f'{i} -> {fizzBuzz(i)}')"
   ]
  },
  {
   "cell_type": "code",
   "execution_count": null,
   "id": "be9cf750",
   "metadata": {},
   "outputs": [
    {
     "name": "stdout",
     "output_type": "stream",
     "text": [
      "FizzBuzz\n",
      "1\n",
      "2\n",
      "Fizz\n",
      "4\n",
      "FizzBuzz\n",
      "Fizz\n",
      "7\n",
      "8\n",
      "Fizz\n",
      "FizzBuzz\n",
      "11\n",
      "Fizz\n",
      "13\n",
      "14\n",
      "FizzBuzz\n",
      "16\n",
      "17\n",
      "Fizz\n",
      "19\n",
      "FizzBuzz\n",
      "Fizz\n",
      "22\n",
      "23\n",
      "Fizz\n",
      "FizzBuzz\n",
      "26\n",
      "Fizz\n",
      "28\n",
      "29\n",
      "FizzBuzz\n",
      "31\n",
      "32\n",
      "Fizz\n",
      "34\n",
      "FizzBuzz\n",
      "Fizz\n",
      "37\n",
      "38\n",
      "Fizz\n",
      "FizzBuzz\n",
      "41\n",
      "Fizz\n",
      "43\n",
      "44\n",
      "FizzBuzz\n",
      "46\n",
      "47\n",
      "Fizz\n",
      "49\n",
      "FizzBuzz\n",
      "Fizz\n",
      "52\n",
      "53\n",
      "Fizz\n",
      "FizzBuzz\n",
      "56\n",
      "Fizz\n",
      "58\n",
      "59\n",
      "FizzBuzz\n",
      "61\n",
      "62\n",
      "Fizz\n",
      "64\n",
      "FizzBuzz\n",
      "Fizz\n",
      "67\n",
      "68\n",
      "Fizz\n",
      "FizzBuzz\n",
      "71\n",
      "Fizz\n",
      "73\n",
      "74\n",
      "FizzBuzz\n",
      "76\n",
      "77\n",
      "Fizz\n",
      "79\n",
      "FizzBuzz\n",
      "Fizz\n",
      "82\n",
      "83\n",
      "Fizz\n",
      "FizzBuzz\n",
      "86\n",
      "Fizz\n",
      "88\n",
      "89\n",
      "FizzBuzz\n",
      "91\n",
      "92\n",
      "Fizz\n",
      "94\n",
      "FizzBuzz\n",
      "Fizz\n",
      "97\n",
      "98\n",
      "Fizz\n"
     ]
    }
   ],
   "source": [
    "# So, Don's implementation of FizzBuzz\n",
    "for i in range(100):\n",
    "    if i in FizzBuzz:\n",
    "        print('FizzBuzz')\n",
    "    elif i in Fizz:\n",
    "        print('Fizz')\n",
    "    elif i in Buzz:\n",
    "        print('Buzz')\n",
    "    else:\n",
    "        print(i)"
   ]
  },
  {
   "cell_type": "code",
   "execution_count": null,
   "id": "963512dc",
   "metadata": {},
   "outputs": [],
   "source": []
  }
 ],
 "metadata": {
  "kernelspec": {
   "display_name": "Python 3 (ipykernel)",
   "language": "python",
   "name": "python3"
  }
 },
 "nbformat": 4,
 "nbformat_minor": 5
}
